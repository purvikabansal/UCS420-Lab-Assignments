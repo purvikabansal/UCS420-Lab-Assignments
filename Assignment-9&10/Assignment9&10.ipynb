{
 "cells": [
  {
   "cell_type": "code",
   "execution_count": null,
   "id": "5d453400-d979-41fb-a579-b48118a1cb73",
   "metadata": {},
   "outputs": [
    {
     "name": "stdout",
     "output_type": "stream",
     "text": [
      "Requirement already satisfied: NLTK in c:\\users\\hp\\appdata\\local\\programs\\python\\python311\\lib\\site-packages (3.9.1)\n",
      "Requirement already satisfied: click in c:\\users\\hp\\appdata\\local\\programs\\python\\python311\\lib\\site-packages (from NLTK) (8.1.8)\n",
      "Requirement already satisfied: joblib in c:\\users\\hp\\appdata\\local\\programs\\python\\python311\\lib\\site-packages (from NLTK) (1.4.2)\n",
      "Requirement already satisfied: regex>=2021.8.3 in c:\\users\\hp\\appdata\\local\\programs\\python\\python311\\lib\\site-packages (from NLTK) (2024.11.6)\n",
      "Requirement already satisfied: tqdm in c:\\users\\hp\\appdata\\local\\programs\\python\\python311\\lib\\site-packages (from NLTK) (4.67.1)\n",
      "Requirement already satisfied: colorama in c:\\users\\hp\\appdata\\roaming\\python\\python311\\site-packages (from click->NLTK) (0.4.6)\n"
     ]
    },
    {
     "name": "stderr",
     "output_type": "stream",
     "text": [
      "\n",
      "[notice] A new release of pip is available: 24.0 -> 25.0.1\n",
      "[notice] To update, run: python.exe -m pip install --upgrade pip\n"
     ]
    }
   ],
   "source": [
    "!pip install NLTK\n"
   ]
  },
  {
   "cell_type": "code",
   "execution_count": null,
   "id": "167bfbd4-3bef-4abb-9c88-02260094c364",
   "metadata": {},
   "outputs": [
    {
     "name": "stdout",
     "output_type": "stream",
     "text": [
      "Requirement already satisfied: pip in c:\\users\\hp\\appdata\\local\\programs\\python\\python311\\lib\\site-packages (24.0)\n",
      "Collecting pip\n",
      "  Using cached pip-25.0.1-py3-none-any.whl.metadata (3.7 kB)\n",
      "Using cached pip-25.0.1-py3-none-any.whl (1.8 MB)\n",
      "Installing collected packages: pip\n",
      "  Attempting uninstall: pip\n",
      "    Found existing installation: pip 24.0\n",
      "    Uninstalling pip-24.0:\n",
      "      Successfully uninstalled pip-24.0\n",
      "Successfully installed pip-25.0.1\n"
     ]
    }
   ],
   "source": [
    "!python -m pip install --upgrade pip\n"
   ]
  },
  {
   "cell_type": "code",
   "execution_count": null,
   "id": "388f3b82-ea0e-4f80-8cf7-6d64742da8c2",
   "metadata": {},
   "outputs": [
    {
     "name": "stdout",
     "output_type": "stream",
     "text": [
      "Collecting nltk\n",
      "  Using cached nltk-3.9.1-py3-none-any.whl.metadata (2.9 kB)\n",
      "Collecting click (from nltk)\n",
      "  Using cached click-8.1.8-py3-none-any.whl.metadata (2.3 kB)\n",
      "Requirement already satisfied: joblib in c:\\users\\hp\\appdata\\local\\programs\\python\\python312\\lib\\site-packages (from nltk) (1.4.2)\n",
      "Collecting regex>=2021.8.3 (from nltk)\n",
      "  Downloading regex-2024.11.6-cp312-cp312-win_amd64.whl.metadata (41 kB)\n",
      "Collecting tqdm (from nltk)\n",
      "  Using cached tqdm-4.67.1-py3-none-any.whl.metadata (57 kB)\n",
      "Requirement already satisfied: colorama in c:\\users\\hp\\appdata\\local\\programs\\python\\python312\\lib\\site-packages (from click->nltk) (0.4.6)\n",
      "Using cached nltk-3.9.1-py3-none-any.whl (1.5 MB)\n",
      "Downloading regex-2024.11.6-cp312-cp312-win_amd64.whl (273 kB)\n",
      "Using cached click-8.1.8-py3-none-any.whl (98 kB)\n",
      "Using cached tqdm-4.67.1-py3-none-any.whl (78 kB)\n",
      "Installing collected packages: tqdm, regex, click, nltk\n",
      "Successfully installed click-8.1.8 nltk-3.9.1 regex-2024.11.6 tqdm-4.67.1\n"
     ]
    }
   ],
   "source": [
    "import sys\n",
    "!{sys.executable} -m pip install nltk\n"
   ]
  },
  {
   "cell_type": "code",
   "execution_count": null,
   "id": "6e8ec79c-74ce-4d42-8cde-f9167cc409b6",
   "metadata": {},
   "outputs": [],
   "source": [
    "import nltk\n",
    "import re\n",
    "import string\n",
    "from nltk.tokenize import word_tokenize, sent_tokenize\n",
    "from nltk.corpus import stopwords\n",
    "from nltk.stem import PorterStemmer , LancasterStemmer , WordNetLemmatizer\n",
    "from nltk import FreqDist"
   ]
  },
  {
   "cell_type": "code",
   "execution_count": null,
   "id": "06954f77-071d-4fc0-be13-0a8422752783",
   "metadata": {},
   "outputs": [
    {
     "name": "stderr",
     "output_type": "stream",
     "text": [
      "[nltk_data] Downloading package punkt to\n",
      "[nltk_data]     C:\\Users\\HP\\AppData\\Roaming\\nltk_data...\n",
      "[nltk_data]   Unzipping tokenizers\\punkt.zip.\n",
      "[nltk_data] Downloading package stopwords to\n",
      "[nltk_data]     C:\\Users\\HP\\AppData\\Roaming\\nltk_data...\n",
      "[nltk_data]   Unzipping corpora\\stopwords.zip.\n",
      "[nltk_data] Error loading WordNet: Package 'WordNet' not found in\n",
      "[nltk_data]     index\n",
      "[nltk_data] Downloading package punkt_tab to\n",
      "[nltk_data]     C:\\Users\\HP\\AppData\\Roaming\\nltk_data...\n",
      "[nltk_data]   Unzipping tokenizers\\punkt_tab.zip.\n"
     ]
    },
    {
     "data": {
      "text/plain": [
       "True"
      ]
     },
     "execution_count": 12,
     "metadata": {},
     "output_type": "execute_result"
    }
   ],
   "source": [
    "nltk.download('punkt')\n",
    "nltk.download('stopwords')\n",
    "nltk.download('WordNet')\n",
    "nltk.download('punkt_tab')\n"
   ]
  },
  {
   "cell_type": "code",
   "execution_count": null,
   "id": "781d1c18-266e-4c79-bb28-c30cfc533c3e",
   "metadata": {},
   "outputs": [
    {
     "name": "stdout",
     "output_type": "stream",
     "text": [
      "cleaned_text hello myself navnidhi i love furbabies  they are the special creatures created by god with 4 paws cute wet nose and wagging tails the best that can ever happen to a person is a dog choosing you \n"
     ]
    }
   ],
   "source": [
    "import string \n",
    "text=\"Hello, Myself Navnidhi. I love furbabies . They are the special creatures created by god with 4 paws ,cute wet nose and wagging tails. The best that can ever happen to a person is a dog choosing you .\" \n",
    "text_lower=text.lower()\n",
    "text_clean=text_lower.translate(str.maketrans('','',string.punctuation))\n",
    "print(\"cleaned_text\",text_clean)"
   ]
  },
  {
   "cell_type": "code",
   "execution_count": null,
   "id": "d87b8aa1-179c-40cb-b1fa-94d8046750c0",
   "metadata": {},
   "outputs": [
    {
     "name": "stdout",
     "output_type": "stream",
     "text": [
      "word_token ['hello', 'myself', 'navnidhi', 'i', 'love', 'furbabies', 'they', 'are', 'the', 'special', 'creatures', 'created', 'by', 'god', 'with', '4', 'paws', 'cute', 'wet', 'nose', 'and', 'wagging', 'tails', 'the', 'best', 'that', 'can', 'ever', 'happen', 'to', 'a', 'person', 'is', 'a', 'dog', 'choosing', 'you']\n",
      "sentence_tokens ['Hello, Myself Navnidhi.', 'I love furbabies .', 'They are the special creatures created by god with 4 paws ,cute wet nose and wagging tails.', 'The best that can ever happen to a person is a dog choosing you .']\n"
     ]
    }
   ],
   "source": [
    "from nltk.tokenize import word_tokenize, sent_tokenize\n",
    "word_token=word_tokenize(text_clean)\n",
    "sent_tokens=sent_tokenize(text)\n",
    "print(\"word_token\",word_token)\n",
    "print(\"sentence_tokens\",sent_tokens)"
   ]
  },
  {
   "cell_type": "code",
   "execution_count": null,
   "id": "557e019a-7500-46cd-b80e-8d6b11b48d84",
   "metadata": {},
   "outputs": [
    {
     "name": "stdout",
     "output_type": "stream",
     "text": [
      "Filtered Words: ['hello', 'navnidhi', 'love', 'furbabies', 'special', 'creatures', 'created', 'god', '4', 'paws', 'cute', 'wet', 'nose', 'wagging', 'tails', 'best', 'ever', 'happen', 'person', 'dog', 'choosing']\n"
     ]
    },
    {
     "name": "stderr",
     "output_type": "stream",
     "text": [
      "[nltk_data] Downloading package stopwords to\n",
      "[nltk_data]     C:\\Users\\HP\\AppData\\Roaming\\nltk_data...\n",
      "[nltk_data]   Package stopwords is already up-to-date!\n"
     ]
    }
   ],
   "source": [
    "\n",
    "from nltk.corpus import stopwords\n",
    "import nltk\n",
    "nltk.download('stopwords')\n",
    "stop_words = set(stopwords.words('english'))\n",
    "filtered_words = [w for w in word_token if w.lower() not in stop_words]\n",
    "print(\"Filtered Words:\", filtered_words)"
   ]
  },
  {
   "cell_type": "code",
   "execution_count": null,
   "id": "bd282b08-d5b5-4928-93d7-83e4e1e3ca52",
   "metadata": {},
   "outputs": [
    {
     "data": {
      "text/plain": [
       "<Axes: title={'center': 'Top words'}, xlabel='Samples', ylabel='Counts'>"
      ]
     },
     "execution_count": 21,
     "metadata": {},
     "output_type": "execute_result"
    },
    {
     "data": {
      "image/png": "[encoded data removed]",
      "text/plain": [
       "<Figure size 640x480 with 1 Axes>"
      ]
     },
     "metadata": {},
     "output_type": "display_data"
    }
   ],
   "source": [
    "fd=FreqDist(filtered_words)\n",
    "fd.plot(10, title=\"Top words\")"
   ]
  },
  {
   "cell_type": "code",
   "execution_count": null,
   "id": "f69201e2-00cb-48db-b2b0-95ce61c06752",
   "metadata": {},
   "outputs": [
    {
     "name": "stdout",
     "output_type": "stream",
     "text": [
      "hello->stemmed:hello,Lemmatized:hello,Stemmed2:hello\n",
      "navnidhi->stemmed:navnidhi,Lemmatized:navnidhi,Stemmed2:navnidh\n",
      "love->stemmed:love,Lemmatized:love,Stemmed2:lov\n",
      "furbabies->stemmed:furbabi,Lemmatized:furbabies,Stemmed2:furbaby\n",
      "special->stemmed:special,Lemmatized:special,Stemmed2:spec\n",
      "creatures->stemmed:creatur,Lemmatized:creature,Stemmed2:cre\n",
      "created->stemmed:creat,Lemmatized:created,Stemmed2:cre\n",
      "god->stemmed:god,Lemmatized:god,Stemmed2:god\n",
      "4->stemmed:4,Lemmatized:4,Stemmed2:4\n",
      "paws->stemmed:paw,Lemmatized:paw,Stemmed2:paw\n",
      "cute->stemmed:cute,Lemmatized:cute,Stemmed2:cut\n",
      "wet->stemmed:wet,Lemmatized:wet,Stemmed2:wet\n",
      "nose->stemmed:nose,Lemmatized:nose,Stemmed2:nos\n",
      "wagging->stemmed:wag,Lemmatized:wagging,Stemmed2:wag\n",
      "tails->stemmed:tail,Lemmatized:tail,Stemmed2:tail\n",
      "best->stemmed:best,Lemmatized:best,Stemmed2:best\n",
      "ever->stemmed:ever,Lemmatized:ever,Stemmed2:ev\n",
      "happen->stemmed:happen,Lemmatized:happen,Stemmed2:hap\n",
      "person->stemmed:person,Lemmatized:person,Stemmed2:person\n",
      "dog->stemmed:dog,Lemmatized:dog,Stemmed2:dog\n",
      "choosing->stemmed:choos,Lemmatized:choosing,Stemmed2:choos\n"
     ]
    },
    {
     "name": "stderr",
     "output_type": "stream",
     "text": [
      "[nltk_data] Downloading package wordnet to\n",
      "[nltk_data]     C:\\Users\\HP\\AppData\\Roaming\\nltk_data...\n",
      "[nltk_data]   Package wordnet is already up-to-date!\n"
     ]
    }
   ],
   "source": [
    "from nltk.stem import PorterStemmer, WordNetLemmatizer\n",
    "nltk.download('wordnet')\n",
    "ps=PorterStemmer()\n",
    "ln=LancasterStemmer()\n",
    "lm=WordNetLemmatizer()\n",
    "for word in filtered_words:\n",
    "    print(f\"{word}->stemmed:{ps.stem(word)},Lemmatized:{lm.lemmatize(word)},Stemmed2:{ln.stem(word)}\")\n"
   ]
  },
  {
   "cell_type": "code",
   "execution_count": null,
   "id": "d8c2e477-6b48-4eb2-a85b-3cd2e475ec89",
   "metadata": {},
   "outputs": [
    {
     "name": "stdout",
     "output_type": "stream",
     "text": [
      "Words with more than 5 letters: ['Myself', 'Navnidhi', 'furbabies', 'special', 'creatures', 'created', 'wagging', 'happen', 'person', 'choosing']\n",
      "Numbers: ['4']\n",
      "Capitalized words: ['Hello', 'Myself', 'Navnidhi', 'I', 'They', 'The']\n",
      "Words containing only alphabets: ['Hello', 'Myself', 'Navnidhi', 'I', 'love', 'furbabies', 'They', 'are', 'the', 'special', 'creatures', 'created', 'by', 'god', 'with', 'paws', 'cute', 'wet', 'nose', 'and', 'wagging', 'tails', 'The', 'best', 'that', 'can', 'ever', 'happen', 'to', 'a', 'person', 'is', 'a', 'dog', 'choosing', 'you']\n",
      "Words starting with a vowel: ['I', 'are', 'and', 'ever', 'a', 'is', 'a']\n"
     ]
    }
   ],
   "source": [
    "import re\n",
    "\n",
    "\n",
    "text = \"Hello, Myself Navnidhi. I love furbabies . They are the special creatures created by god with 4 paws ,cute wet nose and wagging tails. The best that can ever happen to a person is a dog choosing you .\"\n",
    "\n",
    "words_more_than_5 = re.findall(r'\\b[a-zA-Z]{6,}\\b', text)\n",
    "\n",
    "numbers = re.findall(r'\\d+', text)\n",
    "\n",
    "capitalized_words = re.findall(r'\\b[A-Z][a-z]*\\b', text)\n",
    "\n",
    "alphabet_words = re.findall(r'\\b[a-zA-Z]+\\b', text)\n",
    "\n",
    "words_starting_with_vowel = [word for word in alphabet_words if word[0].lower() in 'aeiou']\n",
    "print(\"Words with more than 5 letters:\", words_more_than_5)\n",
    "print(\"Numbers:\", numbers)\n",
    "print(\"Capitalized words:\", capitalized_words)\n",
    "print(\"Words containing only alphabets:\", alphabet_words)\n",
    "print(\"Words starting with a vowel:\", words_starting_with_vowel)\n"
   ]
  },
  {
   "cell_type": "code",
   "execution_count": null,
   "id": "4894169f-c916-40c0-9889-d06328d26d30",
   "metadata": {},
   "outputs": [
    {
     "name": "stdout",
     "output_type": "stream",
     "text": [
      "['Hello', 'Myself', 'Navnidhi', 'I', 'love', 'furbabies', 'They', 'are', 'the', 'special', 'creatures', 'created', 'by', 'god', 'with', '4', 'paws', 'cute', 'wet', 'nose', 'and', 'wagging', 'tails', 'The', 'best', 'that', 'can', 'ever', 'happen', 'to', 'a', 'person', 'is', 'a', 'dog', 'choosing', 'you']\n"
     ]
    }
   ],
   "source": [
    "def custom_tokenizer(text):\n",
    "    pattern = r\"\\b\\w+(?:-\\w+)*\\b|\\d+\\.\\d+|\\w+'\\w+\"\n",
    "    return re.findall(pattern, text)\n",
    "\n",
    "print(custom_tokenizer(text))"
   ]
  },
  {
   "cell_type": "code",
   "execution_count": null,
   "id": "758ccb53-ba75-4e2d-af47-6b7b484e6bea",
   "metadata": {},
   "outputs": [
    {
     "name": "stdout",
     "output_type": "stream",
     "text": [
      "['ahead' 'are' 'chances' 'day' 'full' 'great' 'have' 'hello' 'of' 'rainy'\n",
      " 'there']\n",
      "[[0 0 0 1 0 1 1 1 0 0 0]\n",
      " [0 1 1 1 1 0 0 0 1 1 1]\n",
      " [1 0 0 1 0 1 1 0 0 0 0]]\n"
     ]
    }
   ],
   "source": [
    "## assignment 10\n",
    "from sklearn.feature_extraction.text import CountVectorizer\n",
    "texts = [\"Hello, have a great day \", \"there are full chances of a rainy day \", \"have a great day ahead\"]\n",
    "cv = CountVectorizer()\n",
    "X = cv.fit_transform(texts)\n",
    "print(cv.get_feature_names_out())\n",
    "print(X.toarray())"
   ]
  },
  {
   "cell_type": "code",
   "execution_count": null,
   "id": "fe5116ba-0890-4994-9f64-97c1824800e6",
   "metadata": {},
   "outputs": [
    {
     "name": "stdout",
     "output_type": "stream",
     "text": [
      "['ahead' 'are' 'chances' 'day' 'full' 'great' 'have' 'hello' 'of' 'rainy'\n",
      " 'there']\n",
      "[[0.         0.         0.         0.37311881 0.         0.4804584\n",
      "  0.4804584  0.63174505 0.         0.         0.        ]\n",
      " [0.         0.39687454 0.39687454 0.2344005  0.39687454 0.\n",
      "  0.         0.         0.39687454 0.39687454 0.39687454]\n",
      " [0.63174505 0.         0.         0.37311881 0.         0.4804584\n",
      "  0.4804584  0.         0.         0.         0.        ]]\n"
     ]
    }
   ],
   "source": [
    "from sklearn.feature_extraction.text import TfidfVectorizer\n",
    "tfidf = TfidfVectorizer()\n",
    "tfidf_matrix = tfidf.fit_transform(texts)\n",
    "print(tfidf.get_feature_names_out())\n",
    "print(tfidf_matrix.toarray())"
   ]
  },
  {
   "cell_type": "code",
   "execution_count": null,
   "id": "d076b99a-4402-483b-ae9a-9cd22819cfc0",
   "metadata": {},
   "outputs": [
    {
     "name": "stdout",
     "output_type": "stream",
     "text": [
      "Jaccard Similarity: 0.029\n",
      "Cosine Similarity: 0.143\n",
      "\n",
      "Analysis:\n",
      "→ Cosine similarity captures deeper semantic overlap .\n"
     ]
    },
    {
     "name": "stderr",
     "output_type": "stream",
     "text": [
      "[nltk_data] Downloading package punkt to\n",
      "[nltk_data]     C:\\Users\\HP\\AppData\\Roaming\\nltk_data...\n",
      "[nltk_data]   Package punkt is already up-to-date!\n",
      "[nltk_data] Downloading package stopwords to\n",
      "[nltk_data]     C:\\Users\\HP\\AppData\\Roaming\\nltk_data...\n",
      "[nltk_data]   Package stopwords is already up-to-date!\n"
     ]
    }
   ],
   "source": [
    "\n",
    "import re\n",
    "from sklearn.feature_extraction.text import TfidfVectorizer\n",
    "from sklearn.metrics.pairwise import cosine_similarity\n",
    "from nltk.corpus import stopwords\n",
    "from nltk.tokenize import word_tokenize\n",
    "import nltk\n",
    "nltk.download('punkt')\n",
    "nltk.download('stopwords')\n",
    "text1 = \"Artificial Intelligence mimic human intelligence.It is used in automation, natural language processing, and decision-making tasks.AI consistes of nlp, big data nalysis,deep learning,machine learning \"\n",
    "\n",
    "text2 = \"Blockchain  stores data across networks.It ensures transparency and security in financial transactions and smart contracts.Blockchain is main in cryptocurrencies like Bitcoin and Ethereum.\"\n",
    "\n",
    "stop_words = set(stopwords.words('english'))\n",
    "\n",
    "def preprocess(text):\n",
    "    text = text.lower()\n",
    "    text = re.sub(r'[^\\w\\s]', '', text)\n",
    "    tokens = word_tokenize(text)\n",
    "    tokens = [word for word in tokens if word not in stop_words]\n",
    "    return set(tokens)\n",
    "\n",
    "tokens1 = preprocess(text1)\n",
    "tokens2 = preprocess(text2)\n",
    "\n",
    "\n",
    "jaccard= len(tokens1 & tokens2) / len(tokens1 | tokens2)\n",
    "print(\"Jaccard Similarity:\", round(jaccard, 3))\n",
    "\n",
    "\n",
    "vectorizer = TfidfVectorizer()\n",
    "tfidf_matrix = vectorizer.fit_transform([text1, text2])\n",
    "cos = cosine_similarity(tfidf_matrix[0:1], tfidf_matrix[1:2])[0][0]\n",
    "print(\"Cosine Similarity:\", round(cos, 3))\n",
    "\n",
    "\n",
    "print(\"\\nAnalysis:\")\n",
    "if cos > jaccard:\n",
    "    print(\"→ Cosine similarity captures deeper semantic overlap .\")\n",
    "else:\n",
    "    print(\"→ Jaccard similarity focuses only on exact word matches.\")\n"
   ]
  },
  {
   "cell_type": "code",
   "execution_count": null,
   "id": "44b4f2d4-90fc-445b-b02d-7eed29a77a4e",
   "metadata": {},
   "outputs": [
    {
     "name": "stdout",
     "output_type": "stream",
     "text": [
      "Requirement already satisfied: textblob in c:\\users\\hp\\appdata\\local\\programs\\python\\python311\\lib\\site-packages (0.19.0)\n",
      "Requirement already satisfied: nltk>=3.9 in c:\\users\\hp\\appdata\\local\\programs\\python\\python311\\lib\\site-packages (from textblob) (3.9.1)\n",
      "Requirement already satisfied: click in c:\\users\\hp\\appdata\\local\\programs\\python\\python311\\lib\\site-packages (from nltk>=3.9->textblob) (8.1.8)\n",
      "Requirement already satisfied: joblib in c:\\users\\hp\\appdata\\local\\programs\\python\\python311\\lib\\site-packages (from nltk>=3.9->textblob) (1.4.2)\n",
      "Requirement already satisfied: regex>=2021.8.3 in c:\\users\\hp\\appdata\\local\\programs\\python\\python311\\lib\\site-packages (from nltk>=3.9->textblob) (2024.11.6)\n",
      "Requirement already satisfied: tqdm in c:\\users\\hp\\appdata\\local\\programs\\python\\python311\\lib\\site-packages (from nltk>=3.9->textblob) (4.67.1)\n",
      "Requirement already satisfied: colorama in c:\\users\\hp\\appdata\\roaming\\python\\python311\\site-packages (from click->nltk>=3.9->textblob) (0.4.6)\n"
     ]
    },
    {
     "name": "stderr",
     "output_type": "stream",
     "text": [
      "[nltk_data] Downloading package punkt to\n",
      "[nltk_data]     C:\\Users\\HP\\AppData\\Roaming\\nltk_data...\n",
      "[nltk_data]   Package punkt is already up-to-date!\n",
      "[nltk_data] Downloading package averaged_perceptron_tagger to\n",
      "[nltk_data]     C:\\Users\\HP\\AppData\\Roaming\\nltk_data...\n",
      "[nltk_data]   Package averaged_perceptron_tagger is already up-to-\n",
      "[nltk_data]       date!\n"
     ]
    },
    {
     "name": "stdout",
     "output_type": "stream",
     "text": [
      "Collecting textblob\n",
      "  Using cached textblob-0.19.0-py3-none-any.whl.metadata (4.4 kB)\n",
      "Requirement already satisfied: nltk>=3.9 in c:\\users\\hp\\appdata\\local\\programs\\python\\python312\\lib\\site-packages (from textblob) (3.9.1)\n",
      "Requirement already satisfied: click in c:\\users\\hp\\appdata\\local\\programs\\python\\python312\\lib\\site-packages (from nltk>=3.9->textblob) (8.1.8)\n",
      "Requirement already satisfied: joblib in c:\\users\\hp\\appdata\\local\\programs\\python\\python312\\lib\\site-packages (from nltk>=3.9->textblob) (1.4.2)\n",
      "Requirement already satisfied: regex>=2021.8.3 in c:\\users\\hp\\appdata\\local\\programs\\python\\python312\\lib\\site-packages (from nltk>=3.9->textblob) (2024.11.6)\n",
      "Requirement already satisfied: tqdm in c:\\users\\hp\\appdata\\local\\programs\\python\\python312\\lib\\site-packages (from nltk>=3.9->textblob) (4.67.1)\n",
      "Requirement already satisfied: colorama in c:\\users\\hp\\appdata\\local\\programs\\python\\python312\\lib\\site-packages (from click->nltk>=3.9->textblob) (0.4.6)\n",
      "Using cached textblob-0.19.0-py3-none-any.whl (624 kB)\n",
      "Installing collected packages: textblob\n",
      "Successfully installed textblob-0.19.0\n"
     ]
    }
   ],
   "source": [
    "!pip install textblob\n",
    "import nltk\n",
    "nltk.download('punkt')\n",
    "nltk.download('averaged_perceptron_tagger')\n",
    "import sys\n",
    "!{sys.executable} -m pip install textblob\n",
    "\n",
    "\n"
   ]
  },
  {
   "cell_type": "code",
   "execution_count": null,
   "id": "07d3d545-a2f7-4022-93de-24a5f12480c6",
   "metadata": {},
   "outputs": [
    {
     "name": "stdout",
     "output_type": "stream",
     "text": [
      "Polarity: -0.1\n",
      "Subjectivity: 0.5\n"
     ]
    }
   ],
   "source": [
    "from textblob import TextBlob\n",
    "review = \"I didnot like the taste of nestle coffee. it taste too bitter \"\n",
    "blob = TextBlob(review)\n",
    "print(\"Polarity:\", blob.sentiment.polarity)\n",
    "print(\"Subjectivity:\", blob.sentiment.subjectivity)"
   ]
  },
  {
   "cell_type": "code",
   "execution_count": null,
   "id": "84142b07-53c5-40e0-8993-4cebe42219a4",
   "metadata": {},
   "outputs": [],
   "source": [
    "paragraph = \"\"\"\n",
    "The world of technology is rapidly evolving, with advancements happening every day.\n",
    "Artificial Intelligence and Machine Learning are at the forefront of this revolution.\n",
    "AI is making strides in fields like healthcare, where it helps doctors diagnose diseases\n",
    "faster and more accurately. In the world of business, AI and automation are streamlining\n",
    "operations and enhancing productivity. As we move forward, the potential for AI to revolutionize\n",
    "even more industries is vast, but it comes with challenges, including ethical concerns and the\n",
    "need for responsible development and regulation.\n",
    "\"\"\""
   ]
  },
  {
   "cell_type": "code",
   "execution_count": null,
   "id": "cc42c4ae-4e40-4520-a23c-2d10df84f08d",
   "metadata": {},
   "outputs": [],
   "source": [
    "!pip install keras tensorflow"
   ]
  },
  {
   "cell_type": "code",
   "execution_count": null,
   "id": "3098c9c7-cf19-43ff-bb68-3039f32ac549",
   "metadata": {},
   "outputs": [
    {
     "ename": "ModuleNotFoundError",
     "evalue": "No module named 'keras.preprocessing.text'",
     "output_type": "error",
     "traceback": [
      "\u001b[31m---------------------------------------------------------------------------\u001b[39m",
      "\u001b[31mModuleNotFoundError\u001b[39m                       Traceback (most recent call last)",
      "\u001b[36mCell\u001b[39m\u001b[36m \u001b[39m\u001b[32mIn[1]\u001b[39m\u001b[32m, line 1\u001b[39m\n\u001b[32m----> \u001b[39m\u001b[32m1\u001b[39m \u001b[38;5;28;01mfrom\u001b[39;00m \u001b[34;01mkeras\u001b[39;00m\u001b[34;01m.\u001b[39;00m\u001b[34;01mpreprocessing\u001b[39;00m\u001b[34;01m.\u001b[39;00m\u001b[34;01mtext\u001b[39;00m \u001b[38;5;28;01mimport\u001b[39;00m Tokenizer\n\u001b[32m      2\u001b[39m \u001b[38;5;28;01mfrom\u001b[39;00m \u001b[34;01mkeras\u001b[39;00m\u001b[34;01m.\u001b[39;00m\u001b[34;01mutils\u001b[39;00m \u001b[38;5;28;01mimport\u001b[39;00m pad_sequences\n\u001b[32m      3\u001b[39m \u001b[38;5;28;01mimport\u001b[39;00m \u001b[34;01mnumpy\u001b[39;00m \u001b[38;5;28;01mas\u001b[39;00m \u001b[34;01mnp\u001b[39;00m\n",
      "\u001b[31mModuleNotFoundError\u001b[39m: No module named 'keras.preprocessing.text'"
     ]
    }
   ],
   "source": [
    "from keras.preprocessing.text import Tokenizer\n",
    "from keras.utils import pad_sequences\n",
    "import numpy as np\n",
    "\n",
    "tokenizer = Tokenizer()\n",
    "tokenizer.fit_on_texts([paragraph])\n",
    "word_index = tokenizer.word_index\n",
    "total_words = len(word_index) + 1\n",
    "\n",
    "input_sequences = []\n",
    "tokens = tokenizer.texts_to_sequences([paragraph])[0]\n",
    "\n",
    "for i in range(1, len(tokens)):\n",
    "    n_gram_sequence = tokens[:i+1]\n",
    "    input_sequences.append(n_gram_sequence)\n",
    "\n",
    "max_len = max([len(seq) for seq in input_sequences])\n",
    "input_sequences = pad_sequences(input_sequences, maxlen=max_len, padding='pre')\n",
    "\n",
    "X = input_sequences[:, :-1]\n",
    "y = input_sequences[:, -1]\n",
    "\n",
    "from keras.utils import to_categorical\n",
    "y = to_categorical(y, num_classes=total_words)\n"
   ]
  },
  {
   "cell_type": "code",
   "execution_count": null,
   "id": "ee18c745-df98-4acd-baff-ef1e88be0c9a",
   "metadata": {},
   "outputs": [],
   "source": []
  }
 ],
 "metadata": {
  "kernelspec": {
   "display_name": "Python 3 (ipykernel)",
   "language": "python",
   "name": "python3"
  },
  "language_info": {
   "codemirror_mode": {
    "name": "ipython",
    "version": 3
   },
   "file_extension": ".py",
   "mimetype": "text/x-python",
   "name": "python",
   "nbconvert_exporter": "python",
   "pygments_lexer": "ipython3",
   "version": "3.12.4"
  }
 },
 "nbformat": 4,
 "nbformat_minor": 5
}
