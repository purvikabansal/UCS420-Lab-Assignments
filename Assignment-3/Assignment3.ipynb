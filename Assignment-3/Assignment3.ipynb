{
  "nbformat": 4,
  "nbformat_minor": 0,
  "metadata": {
    "colab": {
      "provenance": []
    },
    "kernelspec": {
      "name": "python3",
      "display_name": "Python 3"
    },
    "language_info": {
      "name": "python"
    }
  },
  "cells": [
    {
      "cell_type": "markdown",
      "source": [
        "Q1"
      ],
      "metadata": {
        "id": "9NN8t8dLjeRT"
      }
    },
    {
      "cell_type": "code",
      "source": [
        "import pandas as pd\n",
        "data = {\n",
        "    'Tid' : [1,2,3,4,5,6,7,8,9,10],\n",
        "    'Refund' : ['Yes','No','No','Yes','No','No','Yes','No','No','No'],\n",
        "    'Marital-Status' : ['Single','Married','Single','Married','Divorced','Married','Divorced','Single','Married','Single'],\n",
        "    'Taxable-Income' : [125000,100000,70000,120000,95000,60000,220000,85000,75000,90000],\n",
        "    'Cheat' : ['No','No','No','No','Yes','No','No','Yes','No','Yes']\n",
        "}\n",
        "dataset= pd.DataFrame(data)\n",
        "print(dataset)"
      ],
      "metadata": {
        "colab": {
          "base_uri": "https://localhost:8080/"
        },
        "id": "dcmDUD_Cjfu7",
        "outputId": "b3fc0f1d-aa46-45f1-deec-c540b6c5a5e1"
      },
      "execution_count": 1,
      "outputs": [
        {
          "output_type": "stream",
          "name": "stdout",
          "text": [
            "   Tid Refund Marital-Status  Taxable-Income Cheat\n",
            "0    1    Yes         Single          125000    No\n",
            "1    2     No        Married          100000    No\n",
            "2    3     No         Single           70000    No\n",
            "3    4    Yes        Married          120000    No\n",
            "4    5     No       Divorced           95000   Yes\n",
            "5    6     No        Married           60000    No\n",
            "6    7    Yes       Divorced          220000    No\n",
            "7    8     No         Single           85000   Yes\n",
            "8    9     No        Married           75000    No\n",
            "9   10     No         Single           90000   Yes\n"
          ]
        }
      ]
    },
    {
      "cell_type": "markdown",
      "source": [
        "Q2"
      ],
      "metadata": {
        "id": "3d5TFB9Fj9O_"
      }
    },
    {
      "cell_type": "code",
      "source": [
        "row=dataset.iloc[[0,4,7,8]]\n",
        "print(row)"
      ],
      "metadata": {
        "colab": {
          "base_uri": "https://localhost:8080/"
        },
        "id": "SStBt54zj-I8",
        "outputId": "6d634ce3-4b0b-4ff5-9e5c-b267b274ad82"
      },
      "execution_count": 2,
      "outputs": [
        {
          "output_type": "stream",
          "name": "stdout",
          "text": [
            "   Tid Refund Marital-Status  Taxable-Income Cheat\n",
            "0    1    Yes         Single          125000    No\n",
            "4    5     No       Divorced           95000   Yes\n",
            "7    8     No         Single           85000   Yes\n",
            "8    9     No        Married           75000    No\n"
          ]
        }
      ]
    },
    {
      "cell_type": "markdown",
      "source": [
        "Q3"
      ],
      "metadata": {
        "id": "UT65uhMnkEDH"
      }
    },
    {
      "cell_type": "code",
      "source": [
        "#i aprt\n",
        "rows=dataset.iloc[3:8]\n",
        "print(rows)"
      ],
      "metadata": {
        "colab": {
          "base_uri": "https://localhost:8080/"
        },
        "id": "7SYKeTmGkFEt",
        "outputId": "56de492f-03cd-453c-ce6c-5de6f8e67aed"
      },
      "execution_count": 3,
      "outputs": [
        {
          "output_type": "stream",
          "name": "stdout",
          "text": [
            "   Tid Refund Marital-Status  Taxable-Income Cheat\n",
            "3    4    Yes        Married          120000    No\n",
            "4    5     No       Divorced           95000   Yes\n",
            "5    6     No        Married           60000    No\n",
            "6    7    Yes       Divorced          220000    No\n",
            "7    8     No         Single           85000   Yes\n"
          ]
        }
      ]
    },
    {
      "cell_type": "code",
      "source": [
        "#ii part\n",
        "rc = dataset.iloc[4:9,2:5]\n",
        "print(rc)"
      ],
      "metadata": {
        "colab": {
          "base_uri": "https://localhost:8080/"
        },
        "id": "5ofUudZ6kY6q",
        "outputId": "318b508c-29a5-4701-8edb-51ec84d32a05"
      },
      "execution_count": 4,
      "outputs": [
        {
          "output_type": "stream",
          "name": "stdout",
          "text": [
            "  Marital-Status  Taxable-Income Cheat\n",
            "4       Divorced           95000   Yes\n",
            "5        Married           60000    No\n",
            "6       Divorced          220000    No\n",
            "7         Single           85000   Yes\n",
            "8        Married           75000    No\n"
          ]
        }
      ]
    },
    {
      "cell_type": "code",
      "source": [
        "#iii part\n",
        "rc1 = dataset.iloc[:,1:4]\n",
        "print(rc1)"
      ],
      "metadata": {
        "colab": {
          "base_uri": "https://localhost:8080/"
        },
        "id": "qnWIVTTHkh_Q",
        "outputId": "d99a6be4-a836-4dbb-e434-5bb365347692"
      },
      "execution_count": 5,
      "outputs": [
        {
          "output_type": "stream",
          "name": "stdout",
          "text": [
            "  Refund Marital-Status  Taxable-Income\n",
            "0    Yes         Single          125000\n",
            "1     No        Married          100000\n",
            "2     No         Single           70000\n",
            "3    Yes        Married          120000\n",
            "4     No       Divorced           95000\n",
            "5     No        Married           60000\n",
            "6    Yes       Divorced          220000\n",
            "7     No         Single           85000\n",
            "8     No        Married           75000\n",
            "9     No         Single           90000\n"
          ]
        }
      ]
    },
    {
      "cell_type": "markdown",
      "source": [
        "Q4"
      ],
      "metadata": {
        "id": "j1bjiw17m13j"
      }
    },
    {
      "cell_type": "code",
      "source": [
        "data=pd.read_csv('Salary_dataset.csv')\n",
        "first_five=data.iloc[:5,:].values\n",
        "print(first_five)"
      ],
      "metadata": {
        "colab": {
          "base_uri": "https://localhost:8080/"
        },
        "id": "gXv0-15Xm3bQ",
        "outputId": "cff9f890-5f52-421f-c42e-1841750fbe25"
      },
      "execution_count": 8,
      "outputs": [
        {
          "output_type": "stream",
          "name": "stdout",
          "text": [
            "[[0.0000e+00 1.2000e+00 3.9344e+04]\n",
            " [1.0000e+00 1.4000e+00 4.6206e+04]\n",
            " [2.0000e+00 1.6000e+00 3.7732e+04]\n",
            " [3.0000e+00 2.1000e+00 4.3526e+04]\n",
            " [4.0000e+00 2.3000e+00 3.9892e+04]]\n"
          ]
        }
      ]
    },
    {
      "cell_type": "markdown",
      "source": [
        "Q5"
      ],
      "metadata": {
        "id": "7L30FAMonbP4"
      }
    },
    {
      "cell_type": "code",
      "source": [
        "\n",
        "\n",
        "\n",
        "data = data.drop(index=3)\n",
        "data = data.drop(columns=data.columns[2])\n",
        "\n",
        "print(\"Modified Data:\")\n",
        "print(data)\n",
        "\n",
        "data.to_csv(\"modified_file.csv\", index=False)\n",
        "\n"
      ],
      "metadata": {
        "colab": {
          "base_uri": "https://localhost:8080/"
        },
        "id": "QeMeD6_5ncsB",
        "outputId": "b214d99d-8bf5-4bda-f3fe-34a5f531ddc3"
      },
      "execution_count": 9,
      "outputs": [
        {
          "output_type": "stream",
          "name": "stdout",
          "text": [
            "Modified Data:\n",
            "    Unnamed: 0  YearsExperience\n",
            "0            0              1.2\n",
            "1            1              1.4\n",
            "2            2              1.6\n",
            "4            4              2.3\n",
            "5            5              3.0\n",
            "6            6              3.1\n",
            "7            7              3.3\n",
            "8            8              3.3\n",
            "9            9              3.8\n",
            "10          10              4.0\n",
            "11          11              4.1\n",
            "12          12              4.1\n",
            "13          13              4.2\n",
            "14          14              4.6\n",
            "15          15              5.0\n",
            "16          16              5.2\n",
            "17          17              5.4\n",
            "18          18              6.0\n",
            "19          19              6.1\n",
            "20          20              6.9\n",
            "21          21              7.2\n",
            "22          22              8.0\n",
            "23          23              8.3\n",
            "24          24              8.8\n",
            "25          25              9.1\n",
            "26          26              9.6\n",
            "27          27              9.7\n",
            "28          28             10.4\n",
            "29          29             10.6\n"
          ]
        }
      ]
    },
    {
      "cell_type": "markdown",
      "source": [
        "Q6"
      ],
      "metadata": {
        "id": "_hVnKpjLow5m"
      }
    },
    {
      "cell_type": "code",
      "source": [
        "data1 = {\n",
        "    'Employee_ID' : [101,102,103,104,105],\n",
        "    'Name' : ['Alice','Bob','Charlie','Diana','Edward'],\n",
        "    'Department' : ['HR','IT','IT','Marketing','Sales'],\n",
        "    'Age' : [29,34,41,28,38],\n",
        "    'Salary' : [50000,70000,65000,55000,60000],\n",
        "    'Years_of_Experience' : [4,8,10,3,12],\n",
        "    'Joining_Date' : ['2020-03-15','2017-07-19','2013-06-01','2021-02-10','2010-11-25'],\n",
        "    'Gender' : ['Female','Male','Male','Female','Male'],\n",
        "    'Bonus' : [5000,7000,6000,4500,5000],\n",
        "    'Rating' : [4.5,4.0,3.8,4.7,3.5]\n",
        "}\n",
        "\n",
        "data2= pd.DataFrame(data1)\n",
        "data2.to_csv('employees.csv')\n",
        "print(data2)"
      ],
      "metadata": {
        "colab": {
          "base_uri": "https://localhost:8080/"
        },
        "id": "_Oakn9nAox6D",
        "outputId": "c1492ca2-6592-45d6-ee7c-17b17a56ce39"
      },
      "execution_count": 12,
      "outputs": [
        {
          "output_type": "stream",
          "name": "stdout",
          "text": [
            "   Employee_ID     Name Department  Age  Salary  Years_of_Experience  \\\n",
            "0          101    Alice         HR   29   50000                    4   \n",
            "1          102      Bob         IT   34   70000                    8   \n",
            "2          103  Charlie         IT   41   65000                   10   \n",
            "3          104    Diana  Marketing   28   55000                    3   \n",
            "4          105   Edward      Sales   38   60000                   12   \n",
            "\n",
            "  Joining_Date  Gender  Bonus  Rating  \n",
            "0   2020-03-15  Female   5000     4.5  \n",
            "1   2017-07-19    Male   7000     4.0  \n",
            "2   2013-06-01    Male   6000     3.8  \n",
            "3   2021-02-10  Female   4500     4.7  \n",
            "4   2010-11-25    Male   5000     3.5  \n"
          ]
        }
      ]
    },
    {
      "cell_type": "markdown",
      "source": [
        "a"
      ],
      "metadata": {
        "id": "0PPbwBY8o7yX"
      }
    },
    {
      "cell_type": "code",
      "source": [
        "print(data2.shape)"
      ],
      "metadata": {
        "colab": {
          "base_uri": "https://localhost:8080/"
        },
        "id": "lXOcuHMeo_QQ",
        "outputId": "700f329f-83d7-4cdd-fae3-5a8ffa8f916a"
      },
      "execution_count": 13,
      "outputs": [
        {
          "output_type": "stream",
          "name": "stdout",
          "text": [
            "(5, 10)\n"
          ]
        }
      ]
    },
    {
      "cell_type": "markdown",
      "source": [
        "b)"
      ],
      "metadata": {
        "id": "lvRPTZ5dpJ37"
      }
    },
    {
      "cell_type": "code",
      "source": [
        "print(data2.info())"
      ],
      "metadata": {
        "colab": {
          "base_uri": "https://localhost:8080/"
        },
        "id": "Kv8DcInZpLaK",
        "outputId": "ccbfb66f-9e06-4206-aadd-dcf753a33070"
      },
      "execution_count": 14,
      "outputs": [
        {
          "output_type": "stream",
          "name": "stdout",
          "text": [
            "<class 'pandas.core.frame.DataFrame'>\n",
            "RangeIndex: 5 entries, 0 to 4\n",
            "Data columns (total 10 columns):\n",
            " #   Column               Non-Null Count  Dtype  \n",
            "---  ------               --------------  -----  \n",
            " 0   Employee_ID          5 non-null      int64  \n",
            " 1   Name                 5 non-null      object \n",
            " 2   Department           5 non-null      object \n",
            " 3   Age                  5 non-null      int64  \n",
            " 4   Salary               5 non-null      int64  \n",
            " 5   Years_of_Experience  5 non-null      int64  \n",
            " 6   Joining_Date         5 non-null      object \n",
            " 7   Gender               5 non-null      object \n",
            " 8   Bonus                5 non-null      int64  \n",
            " 9   Rating               5 non-null      float64\n",
            "dtypes: float64(1), int64(5), object(4)\n",
            "memory usage: 532.0+ bytes\n",
            "None\n"
          ]
        }
      ]
    },
    {
      "cell_type": "markdown",
      "source": [
        "c)"
      ],
      "metadata": {
        "id": "QEVbsXLKpQf5"
      }
    },
    {
      "cell_type": "code",
      "source": [
        "print(data2.describe())"
      ],
      "metadata": {
        "colab": {
          "base_uri": "https://localhost:8080/"
        },
        "id": "OphM382XpRz3",
        "outputId": "47c45894-bb4f-48e7-9ade-af2914411fa7"
      },
      "execution_count": 15,
      "outputs": [
        {
          "output_type": "stream",
          "name": "stdout",
          "text": [
            "       Employee_ID        Age       Salary  Years_of_Experience   Bonus  \\\n",
            "count     5.000000   5.000000      5.00000             5.000000     5.0   \n",
            "mean    103.000000  34.000000  60000.00000             7.400000  5500.0   \n",
            "std       1.581139   5.612486   7905.69415             3.847077  1000.0   \n",
            "min     101.000000  28.000000  50000.00000             3.000000  4500.0   \n",
            "25%     102.000000  29.000000  55000.00000             4.000000  5000.0   \n",
            "50%     103.000000  34.000000  60000.00000             8.000000  5000.0   \n",
            "75%     104.000000  38.000000  65000.00000            10.000000  6000.0   \n",
            "max     105.000000  41.000000  70000.00000            12.000000  7000.0   \n",
            "\n",
            "         Rating  \n",
            "count  5.000000  \n",
            "mean   4.100000  \n",
            "std    0.494975  \n",
            "min    3.500000  \n",
            "25%    3.800000  \n",
            "50%    4.000000  \n",
            "75%    4.500000  \n",
            "max    4.700000  \n"
          ]
        }
      ]
    },
    {
      "cell_type": "markdown",
      "source": [
        "d)"
      ],
      "metadata": {
        "id": "wGDY1JOIpXaO"
      }
    },
    {
      "cell_type": "code",
      "source": [
        "print(data2.head())"
      ],
      "metadata": {
        "colab": {
          "base_uri": "https://localhost:8080/"
        },
        "id": "GJzPWt9JpYuN",
        "outputId": "448a07f2-16dc-47e9-bdaf-8e423bfe4a4d"
      },
      "execution_count": 17,
      "outputs": [
        {
          "output_type": "stream",
          "name": "stdout",
          "text": [
            "   Employee_ID     Name Department  Age  Salary  Years_of_Experience  \\\n",
            "0          101    Alice         HR   29   50000                    4   \n",
            "1          102      Bob         IT   34   70000                    8   \n",
            "2          103  Charlie         IT   41   65000                   10   \n",
            "3          104    Diana  Marketing   28   55000                    3   \n",
            "4          105   Edward      Sales   38   60000                   12   \n",
            "\n",
            "  Joining_Date  Gender  Bonus  Rating  \n",
            "0   2020-03-15  Female   5000     4.5  \n",
            "1   2017-07-19    Male   7000     4.0  \n",
            "2   2013-06-01    Male   6000     3.8  \n",
            "3   2021-02-10  Female   4500     4.7  \n",
            "4   2010-11-25    Male   5000     3.5  \n"
          ]
        }
      ]
    },
    {
      "cell_type": "code",
      "source": [
        "print(data2.tail(3))"
      ],
      "metadata": {
        "colab": {
          "base_uri": "https://localhost:8080/"
        },
        "id": "4VjUJHvtphWa",
        "outputId": "148d9fdd-e2f0-48d3-f1f6-44d7688f321b"
      },
      "execution_count": 19,
      "outputs": [
        {
          "output_type": "stream",
          "name": "stdout",
          "text": [
            "   Employee_ID     Name Department  Age  Salary  Years_of_Experience  \\\n",
            "2          103  Charlie         IT   41   65000                   10   \n",
            "3          104    Diana  Marketing   28   55000                    3   \n",
            "4          105   Edward      Sales   38   60000                   12   \n",
            "\n",
            "  Joining_Date  Gender  Bonus  Rating  \n",
            "2   2013-06-01    Male   6000     3.8  \n",
            "3   2021-02-10  Female   4500     4.7  \n",
            "4   2010-11-25    Male   5000     3.5  \n"
          ]
        }
      ]
    },
    {
      "cell_type": "markdown",
      "source": [
        "e)"
      ],
      "metadata": {
        "id": "iJuT6AxZpoqj"
      }
    },
    {
      "cell_type": "code",
      "source": [
        "avgsal = data2['Salary'].mean()\n",
        "totalbonus = data2['Bonus'].sum()\n",
        "minage = data2['Age'].min()\n",
        "maxrate = data2['Rating'].max()\n",
        "\n",
        "print(f'Average Salary of Employees : {avgsal}')\n",
        "print(f'Total Bonus paid to Employees : {totalbonus}')\n",
        "print(f\"Youngest employee's age : {minage}\")\n",
        "print(f'Highest performance rating : {maxrate}')"
      ],
      "metadata": {
        "colab": {
          "base_uri": "https://localhost:8080/"
        },
        "id": "3AR7paI5ppq0",
        "outputId": "9a64c020-4023-4cba-eba2-68009803d08d"
      },
      "execution_count": 20,
      "outputs": [
        {
          "output_type": "stream",
          "name": "stdout",
          "text": [
            "Average Salary of Employees : 60000.0\n",
            "Total Bonus paid to Employees : 27500\n",
            "Youngest employee's age : 28\n",
            "Highest performance rating : 4.7\n"
          ]
        }
      ]
    },
    {
      "cell_type": "markdown",
      "source": [
        "f)"
      ],
      "metadata": {
        "id": "EzDPRZe7p8q7"
      }
    },
    {
      "cell_type": "code",
      "source": [
        "sorted_dataset= data2.sort_values(by = \"Salary\",ascending = False)\n",
        "print(sorted_dataset)"
      ],
      "metadata": {
        "colab": {
          "base_uri": "https://localhost:8080/"
        },
        "id": "i3PFbNlTp9ub",
        "outputId": "ba3bfb70-e8a3-4bd8-9ae5-0017f5f6e8cc"
      },
      "execution_count": 21,
      "outputs": [
        {
          "output_type": "stream",
          "name": "stdout",
          "text": [
            "   Employee_ID     Name Department  Age  Salary  Years_of_Experience  \\\n",
            "1          102      Bob         IT   34   70000                    8   \n",
            "2          103  Charlie         IT   41   65000                   10   \n",
            "4          105   Edward      Sales   38   60000                   12   \n",
            "3          104    Diana  Marketing   28   55000                    3   \n",
            "0          101    Alice         HR   29   50000                    4   \n",
            "\n",
            "  Joining_Date  Gender  Bonus  Rating  \n",
            "1   2017-07-19    Male   7000     4.0  \n",
            "2   2013-06-01    Male   6000     3.8  \n",
            "4   2010-11-25    Male   5000     3.5  \n",
            "3   2021-02-10  Female   4500     4.7  \n",
            "0   2020-03-15  Female   5000     4.5  \n"
          ]
        }
      ]
    },
    {
      "cell_type": "markdown",
      "source": [
        "g)"
      ],
      "metadata": {
        "id": "CFRKYCFfqBiZ"
      }
    },
    {
      "cell_type": "code",
      "source": [
        "def performance(Rating):\n",
        "    if Rating >= 4.5:\n",
        "        return 'Excellent'\n",
        "    elif Rating >= 4.0 and Rating < 4.5:\n",
        "        return 'Good'\n",
        "    else:\n",
        "        return 'Average'\n",
        "\n",
        "data2['Performance'] = data2['Rating'].apply(performance)\n",
        "print(data2)"
      ],
      "metadata": {
        "colab": {
          "base_uri": "https://localhost:8080/"
        },
        "id": "U2k5gy3wqCiV",
        "outputId": "45f15644-05c0-447f-d2d6-65f400cd8c9a"
      },
      "execution_count": 22,
      "outputs": [
        {
          "output_type": "stream",
          "name": "stdout",
          "text": [
            "   Employee_ID     Name Department  Age  Salary  Years_of_Experience  \\\n",
            "0          101    Alice         HR   29   50000                    4   \n",
            "1          102      Bob         IT   34   70000                    8   \n",
            "2          103  Charlie         IT   41   65000                   10   \n",
            "3          104    Diana  Marketing   28   55000                    3   \n",
            "4          105   Edward      Sales   38   60000                   12   \n",
            "\n",
            "  Joining_Date  Gender  Bonus  Rating Performance  \n",
            "0   2020-03-15  Female   5000     4.5   Excellent  \n",
            "1   2017-07-19    Male   7000     4.0        Good  \n",
            "2   2013-06-01    Male   6000     3.8     Average  \n",
            "3   2021-02-10  Female   4500     4.7   Excellent  \n",
            "4   2010-11-25    Male   5000     3.5     Average  \n"
          ]
        }
      ]
    },
    {
      "cell_type": "markdown",
      "source": [
        "h)"
      ],
      "metadata": {
        "id": "WJP9VvTPqWAQ"
      }
    },
    {
      "cell_type": "code",
      "source": [
        "\n",
        "missing=data2.isnull().sum()\n",
        "print(missing)"
      ],
      "metadata": {
        "colab": {
          "base_uri": "https://localhost:8080/"
        },
        "id": "Sp9h2pkCqXYh",
        "outputId": "eddb7e8f-ab66-4824-9cbf-3dd921836f1a"
      },
      "execution_count": 23,
      "outputs": [
        {
          "output_type": "stream",
          "name": "stdout",
          "text": [
            "Employee_ID            0\n",
            "Name                   0\n",
            "Department             0\n",
            "Age                    0\n",
            "Salary                 0\n",
            "Years_of_Experience    0\n",
            "Joining_Date           0\n",
            "Gender                 0\n",
            "Bonus                  0\n",
            "Rating                 0\n",
            "Performance            0\n",
            "dtype: int64\n"
          ]
        }
      ]
    },
    {
      "cell_type": "markdown",
      "source": [
        "i)"
      ],
      "metadata": {
        "id": "utOogPP8qfVa"
      }
    },
    {
      "cell_type": "code",
      "source": [
        "data2.rename(columns = {'Employee_ID' : 'ID'},inplace = True)\n",
        "print(data2)"
      ],
      "metadata": {
        "colab": {
          "base_uri": "https://localhost:8080/"
        },
        "id": "S4XPmAuSqghf",
        "outputId": "2073f809-0898-4b77-f0b9-1a26f4057909"
      },
      "execution_count": 24,
      "outputs": [
        {
          "output_type": "stream",
          "name": "stdout",
          "text": [
            "    ID     Name Department  Age  Salary  Years_of_Experience Joining_Date  \\\n",
            "0  101    Alice         HR   29   50000                    4   2020-03-15   \n",
            "1  102      Bob         IT   34   70000                    8   2017-07-19   \n",
            "2  103  Charlie         IT   41   65000                   10   2013-06-01   \n",
            "3  104    Diana  Marketing   28   55000                    3   2021-02-10   \n",
            "4  105   Edward      Sales   38   60000                   12   2010-11-25   \n",
            "\n",
            "   Gender  Bonus  Rating Performance  \n",
            "0  Female   5000     4.5   Excellent  \n",
            "1    Male   7000     4.0        Good  \n",
            "2    Male   6000     3.8     Average  \n",
            "3  Female   4500     4.7   Excellent  \n",
            "4    Male   5000     3.5     Average  \n"
          ]
        }
      ]
    },
    {
      "cell_type": "markdown",
      "source": [
        "j)"
      ],
      "metadata": {
        "id": "H0kNk7pLqpGI"
      }
    },
    {
      "cell_type": "code",
      "source": [
        "experience = data2[(dataset2['Years_of_Experience'] > 5)]\n",
        "print(experience)\n"
      ],
      "metadata": {
        "colab": {
          "base_uri": "https://localhost:8080/"
        },
        "id": "15wRYNmUqqDh",
        "outputId": "ba538bbb-9bb5-463b-ad58-8be0dab17efc"
      },
      "execution_count": 26,
      "outputs": [
        {
          "output_type": "stream",
          "name": "stdout",
          "text": [
            "    ID     Name Department  Age  Salary  Years_of_Experience Joining_Date  \\\n",
            "1  102      Bob         IT   34   70000                    8   2017-07-19   \n",
            "2  103  Charlie         IT   41   65000                   10   2013-06-01   \n",
            "4  105   Edward      Sales   38   60000                   12   2010-11-25   \n",
            "\n",
            "  Gender  Bonus  Rating Performance  \n",
            "1   Male   7000     4.0        Good  \n",
            "2   Male   6000     3.8     Average  \n",
            "4   Male   5000     3.5     Average  \n"
          ]
        }
      ]
    },
    {
      "cell_type": "code",
      "source": [
        "dept = data2[(data2['Department'] == 'IT')]\n",
        "print(dept)"
      ],
      "metadata": {
        "colab": {
          "base_uri": "https://localhost:8080/"
        },
        "id": "WRH_RtwTq5Fq",
        "outputId": "70b50df6-73b1-4839-88d4-d29bc2e4a4b8"
      },
      "execution_count": 27,
      "outputs": [
        {
          "output_type": "stream",
          "name": "stdout",
          "text": [
            "    ID     Name Department  Age  Salary  Years_of_Experience Joining_Date  \\\n",
            "1  102      Bob         IT   34   70000                    8   2017-07-19   \n",
            "2  103  Charlie         IT   41   65000                   10   2013-06-01   \n",
            "\n",
            "  Gender  Bonus  Rating Performance  \n",
            "1   Male   7000     4.0        Good  \n",
            "2   Male   6000     3.8     Average  \n"
          ]
        }
      ]
    },
    {
      "cell_type": "markdown",
      "source": [
        "k)"
      ],
      "metadata": {
        "id": "XQARBNIWq8mI"
      }
    },
    {
      "cell_type": "code",
      "source": [
        "data2['Tax'] = data2['Salary'] * 0.10\n",
        "print(data2)"
      ],
      "metadata": {
        "colab": {
          "base_uri": "https://localhost:8080/"
        },
        "id": "epVaBAHcq9ms",
        "outputId": "ea7f3548-6eae-4f63-f9bb-6b5adfb11c90"
      },
      "execution_count": 28,
      "outputs": [
        {
          "output_type": "stream",
          "name": "stdout",
          "text": [
            "    ID     Name Department  Age  Salary  Years_of_Experience Joining_Date  \\\n",
            "0  101    Alice         HR   29   50000                    4   2020-03-15   \n",
            "1  102      Bob         IT   34   70000                    8   2017-07-19   \n",
            "2  103  Charlie         IT   41   65000                   10   2013-06-01   \n",
            "3  104    Diana  Marketing   28   55000                    3   2021-02-10   \n",
            "4  105   Edward      Sales   38   60000                   12   2010-11-25   \n",
            "\n",
            "   Gender  Bonus  Rating Performance     Tax  \n",
            "0  Female   5000     4.5   Excellent  5000.0  \n",
            "1    Male   7000     4.0        Good  7000.0  \n",
            "2    Male   6000     3.8     Average  6500.0  \n",
            "3  Female   4500     4.7   Excellent  5500.0  \n",
            "4    Male   5000     3.5     Average  6000.0  \n"
          ]
        }
      ]
    },
    {
      "cell_type": "markdown",
      "source": [
        "l)"
      ],
      "metadata": {
        "id": "GgGU4xo-rGwl"
      }
    },
    {
      "cell_type": "code",
      "source": [
        "data2.to_csv('employees_modified.csv',index = False)\n",
        "print(data2)"
      ],
      "metadata": {
        "colab": {
          "base_uri": "https://localhost:8080/"
        },
        "id": "TEtJaAD7rHty",
        "outputId": "5348015d-ba8f-4389-e44a-3fd683563813"
      },
      "execution_count": 29,
      "outputs": [
        {
          "output_type": "stream",
          "name": "stdout",
          "text": [
            "    ID     Name Department  Age  Salary  Years_of_Experience Joining_Date  \\\n",
            "0  101    Alice         HR   29   50000                    4   2020-03-15   \n",
            "1  102      Bob         IT   34   70000                    8   2017-07-19   \n",
            "2  103  Charlie         IT   41   65000                   10   2013-06-01   \n",
            "3  104    Diana  Marketing   28   55000                    3   2021-02-10   \n",
            "4  105   Edward      Sales   38   60000                   12   2010-11-25   \n",
            "\n",
            "   Gender  Bonus  Rating Performance     Tax  \n",
            "0  Female   5000     4.5   Excellent  5000.0  \n",
            "1    Male   7000     4.0        Good  7000.0  \n",
            "2    Male   6000     3.8     Average  6500.0  \n",
            "3  Female   4500     4.7   Excellent  5500.0  \n",
            "4    Male   5000     3.5     Average  6000.0  \n"
          ]
        }
      ]
    }
  ]
}